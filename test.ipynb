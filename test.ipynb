{
 "cells": [
  {
   "cell_type": "code",
   "execution_count": 2,
   "id": "68f9007c",
   "metadata": {},
   "outputs": [
    {
     "data": {
      "text/plain": [
       "[Document(metadata={'source': 'speech.txt'}, page_content=\"\\nDiscipline is the bridge between goals and achievement. \\nIt requires focus, self-control and the ability to stay committed even when motivation fades. Successful people rely on discipline to keep going, especially during difficult times. It's not always easy, but the reward are worth the effort. \\nBuilding discipline starts with small actions - waking up one time staying organized, and completing tasks without procrastination. \\nOver time, these habits become part of your routine. Discipline doesn't mean being perfect; it means doing your best consistently. \\nWhen you stay discipline doesn't you take control of your future and move steadily toward your dreams and goals\")]"
      ]
     },
     "execution_count": 2,
     "metadata": {},
     "output_type": "execute_result"
    }
   ],
   "source": [
    "from langchain_community.document_loaders import TextLoader\n",
    "\n",
    "loader=TextLoader('speech.txt') #this is given document as output\n",
    "\n",
    "text_document=loader.load() #document convert into text\n",
    "\n",
    "text_document"
   ]
  },
  {
   "cell_type": "code",
   "execution_count": 3,
   "id": "e5fea7e2",
   "metadata": {},
   "outputs": [
    {
     "data": {
      "text/plain": [
       "[Document(metadata={'producer': 'Microsoft® Word for Microsoft 365', 'creator': 'Microsoft® Word for Microsoft 365', 'creationdate': '2022-12-11T17:01:59+08:00', 'author': 'Ruth May-Os', 'moddate': '2022-12-11T17:01:59+08:00', 'rgid': 'PB:366183218_AS:11431281106509394@1670749617241', 'source': 'winner.pdf', 'total_pages': 6, 'page': 0, 'page_label': '1'}, page_content='See discussions, stats, and author profiles for this publication at: https://www.researchgate.net/publication/366183218\\nSELF-DISCIPLINE \\nArticle · December 2022\\nCITATIONS\\n0\\nREADS\\n24,186\\n1 author:\\nRuth May-os\\n13 PUBLICATIONS\\xa0\\xa0\\xa00 CITATIONS\\xa0\\xa0\\xa0\\nSEE PROFILE\\nAll content following this page was uploaded by Ruth May-os on 11 December 2022.\\nThe user has requested enhancement of the downloaded file.'),\n",
       " Document(metadata={'producer': 'Microsoft® Word for Microsoft 365', 'creator': 'Microsoft® Word for Microsoft 365', 'creationdate': '2022-12-11T17:01:59+08:00', 'author': 'Ruth May-Os', 'moddate': '2022-12-11T17:01:59+08:00', 'rgid': 'PB:366183218_AS:11431281106509394@1670749617241', 'source': 'winner.pdf', 'total_pages': 6, 'page': 1, 'page_label': '2'}, page_content='SELF-DISCIPLINE \\nRuth D. May-os \\nSelf-discipline Definition \\nIn the 1690s, self-discipline was defined as the ability to guide, retrain, and control \\noneself. Despite the significant changes that happened during the past centuries, the \\nmeaning of self-disciple remained the same. Self-discipline is currently defined as the \\nability to regulate and correct oneself for self-improvement (University of the People, \\n2022; Collins Dictionary, n.d.; &, Merriam Webster Dictionary, n.d.). It is the ability of \\nsomeone to manage and push him/herself to behave and act in a particular manner \\nwithout being directed or pushed by other individuals (Collins Dictionary, n.d.; &, \\nLongman, 2022). Similarly, Cambridge Dictionary (n.d.) defined it as the capability to \\nmotivate or let oneself complete tasks and do responsibilities even if he/she does not \\nhave the desire to do it. It is the ability to control responses to certain stimuli towards \\nachieving higher goals. An ability that is not developed in one click but is developed \\nthrough \"conscious effort\" (Duckworth & Seligman, 2006, p. 199). Thus, Zimmerman and \\nKitsantas (2014) are right when they described self-discipline as a \"conscious control\" of \\none\\'s actions and behavior , including surpassing challenges, hindrances, and \\nobstructions, towards successful outputs. It is, as well, the ability to break or balance \\nholistic health issues to obtain the best holistic health that someone could have (Adventist \\nHealthCare, 2022).  \\nRemez Sasson (2022) classified this as one of the crucial elements of success. It \\nis an invaluable skill that everyone must learn and maintain throughout their life. Jennifer \\nCohen (2014) identified self-discipline as the number one characteristic to achieve a \\nmission or a goal, which includes managing a healthy lifestyle. It is one of the three self-\\ncontrol skills that include perseverance and conscientiousness (Moffit, Poulton, & Caspi, \\n2022). Self-discipline exists when someone can neglect, reconsider, or consider his/her \\nconscience’ desire in a wise manner (Hope, n.d.). It is when someone has the skill to \\ncontrol his/her impulses, and feelings. A person who possesses this has the trait to avoid \\nunhealthy excess or stop negative habits that could lead to negative consequences \\n(Sasson, 2022).  Once a person has this ability, they could neglect an instant or sudden \\ndesire in exchange for greater and more satisfying outputs, even if it requires more effort'),\n",
       " Document(metadata={'producer': 'Microsoft® Word for Microsoft 365', 'creator': 'Microsoft® Word for Microsoft 365', 'creationdate': '2022-12-11T17:01:59+08:00', 'author': 'Ruth May-Os', 'moddate': '2022-12-11T17:01:59+08:00', 'rgid': 'PB:366183218_AS:11431281106509394@1670749617241', 'source': 'winner.pdf', 'total_pages': 6, 'page': 2, 'page_label': '3'}, page_content=\"and time to accomplish such (Sasson, 2022). This reflects the inner strength of a person \\nto deal with challenges and achieve goals (Sasson, 2022). \\nSelf-discipline and Success \\n James Heckman's 2006 paper has predicted or hypothesized that self-control can \\nbe a determining factor of success, may it be in improving one's health, parenting, wealth, \\nand preventing crime (Moffit, Poulton, & Caspi, 2022). It is a skill that could be developed \\nand taught. Self -disciple is identified as one of the twenty percent skills that greatly \\ncontribute (80 percent) towards success or goal achievement (Koch, 2014). A longitudinal \\nstudy conducted to 1, 568 children found that participants with higher self-discipline obtain \\ngreater occupational and career success during their adulthood than those with poor or \\nlower self-discipline (Converse et al., as cited by Lonczak, 2019). This result is the same \\nas the first study that Converse, Pathak, and DePaul et al. (2012) conducted to 249 full-\\ntime employees.   \\nSelf-discipline and Learners’ Behavior and Academic Performance \\nA 40-year study, with 1000 children as participants, revealed that self-control has \\na significant role in determining the success of children during their  adulthood, despite \\ntheir differences in intelligence and economic status. This study was supposed to boost \\nthe Intellectual quotient of the children; however, they unexpectedly traced different factor \\nthat greatly contributes to child development . Although they failed to achieve their main \\nobjective, which is to boost the children ’s IQ, they found out that the program or study \\nlessened the rates of criminal behavior , teen pregnancy, school dropout, and work \\nabsenteeism. It was not their intellectual quotient that was improved but it was their self -\\ncontrol that was developed. This is similar to the  longitudinal study conducted to 164 \\ngrade eight learners in which self -discipline was seen as a significant factor in various \\neducation outcomes (Duckworth, & Seligman, 2005 as cited by Lonczak, 2019).  Aside \\nfrom these, an article in Psychological Science  has emphasized the role of self -disciple \\nto academic success. It also projected that higher self-disciple is more impactful and \\npowerful determinant in maintaining high academic performance than a higher IQ. This is \\nsupported by studies in which self-disciplined learners turned out to have higher grades, \\nhigher results in standardized achievement test scores, and often complete attendance,\"),\n",
       " Document(metadata={'producer': 'Microsoft® Word for Microsoft 365', 'creator': 'Microsoft® Word for Microsoft 365', 'creationdate': '2022-12-11T17:01:59+08:00', 'author': 'Ruth May-Os', 'moddate': '2022-12-11T17:01:59+08:00', 'rgid': 'PB:366183218_AS:11431281106509394@1670749617241', 'source': 'winner.pdf', 'total_pages': 6, 'page': 3, 'page_label': '4'}, page_content=\"and many of them were admitted to a competitive higher school than those learners that \\nonly have high IQs.  \\nSelf-discipline and Healthy Lifestyle  \\n A survey to 17, 000 Australians about their level of self-control projected the \\ndirect relationship between self-control and life outcomes, as well as satisfaction and \\nhealth (Botha S., & Dahmann, F., 2021). Various studies have also found a direct \\nrelationship between self -discipline and healthy lifestyle changes. Individuals with a  \\nhigher level of self -control are more successful in completing health lifestyle program \\ngoals.  In the study of Crescioni, Ehrlinger, & Alquist et al. (2011), they found out that \\nparticipants with higher self -control can eat and maintain a fewer -calory diet, lesser fat, \\nand can loss greater weight than those with lower self-control. Other than this, higher self-\\nregulation, which is under self -discipline, was detected to have a direct relationship to \\nchildren's BMI. A longitudinal study , conducted by Francis and Susman (2009) to 1061 \\nchildren aged from 3 to 12 years and residing withi n ten United States sites , evaluated \\nthat those children with higher BMI have lower self-regulation while those with BMI at the \\nbaseline have higher self-regulatory skills. Furthermore, a three-year study conducted on \\nfifth graders presented that those with higher self-control have had a significant decrease \\nin BMI for the past three years (Duckworth, Tsukayama, & Geier, 2010). Also, a \\nlongitudinal study conducted by Tsukayama, Toomey, & Faith et al. (2010) concluded \\nthat children with higher self -control were less likely to be overweight at the age of 15. \\nThis relationship is not only coming out from longitudinal studies but also from surveys on \\nthe perceptions of people. An America Survey about Stress in 2011 showed that 27% of \\nthe participants considered l ack of willpower or self -disciple as one major obstacle to \\nimproving or changing one's healthy lifestyle. This result is the same as the study of \\nKinnunen, Suihko, and Hankonen et al. (2012) that was conducted on young male \\nparticipants.  \\nConclusion: \\nBased on the collected literature, s elf-disciple has a direct relationship with one’s \\nsuccess;  learners’ behavior and academic performance; and, healthy lifestyle.\"),\n",
       " Document(metadata={'producer': 'Microsoft® Word for Microsoft 365', 'creator': 'Microsoft® Word for Microsoft 365', 'creationdate': '2022-12-11T17:01:59+08:00', 'author': 'Ruth May-Os', 'moddate': '2022-12-11T17:01:59+08:00', 'rgid': 'PB:366183218_AS:11431281106509394@1670749617241', 'source': 'winner.pdf', 'total_pages': 6, 'page': 4, 'page_label': '5'}, page_content=\"References:  \\nOnline Etymology Dictionary.( 2022 ). Self-Discipline. \\nhttps://www.etymonline.com/word/self-\\ndiscipline#:~:text=self%2Ddiscipline%20(n.),%2B%20discipline%20(n.). \\nMerriam Dictionary .( 2022 ). Self-Discipline . https://www.merriam-\\nwebster.com/dictionary/self-discipline \\nLongman .( 2022 ). Self-Discipline . https://www.ldoceonline.com/dictionary/self-\\ndiscipline \\nSasson, R .( 2022 ). What Is Self-Discipline – Definitions and Meaning . \\nhttps://www.successconsciousness.com/blog/inner-strength/what-is-self-discipline/ \\nCambridgeDictionary .( 2022 ). Self-Discipline . \\nhttps://dictionary.cambridge.org/us/dictionary/english/self-discipline \\nBotha, and Dahmann .( 2021 ). The University of Melbourne .  . \\nhttps://pursuit.unimelb.edu.au/articles/what-s-the-impact-of-self-control-on-our-lives \\nKoch, R .( 2014 ). The 80/20 View of Self-discipline . Halfpost . \\nhttps://www.huffpost.com/entry/the-8020-view-of-self-dis_b_5546928 \\nMoffitt T., Poulton R, and, Caspi, A .( 2022 ). Lifelong Impact of Early Self-Control . \\nAmerican Scientist . https://www.americanscientist.org/article/lifelong-impact-of-\\nearly-self-control \\nLonczak,H .( 2019 ). 40+ Benefits of Self-Control and Self-Discipline . \\nhttps://positivepsychology.com/benefits-self-control-discipline/ \\nCollins' Dictionary .( 2022 ). Self-Discipline . \\nhttps://www.collinsdictionary.com/dictionary/english/self-discipline \\nCohen, J .( 2014 ). Five proven Methods for gaining Self-discipline . Forbes . \\nhttps://www.forbes.com/sites/jennifercohen/2014/06/18/5-proven-methods-for-\\ngaining-self-discipline/?sh=5b5ae7013c9f \\nAdventistHealthCare .( 2013 ). The Importance of Self-Discipline  . \\nhttps://www.adventisthealthcare.com/living-well/the-importance-of-self-discipline/\"),\n",
       " Document(metadata={'producer': 'Microsoft® Word for Microsoft 365', 'creator': 'Microsoft® Word for Microsoft 365', 'creationdate': '2022-12-11T17:01:59+08:00', 'author': 'Ruth May-Os', 'moddate': '2022-12-11T17:01:59+08:00', 'rgid': 'PB:366183218_AS:11431281106509394@1670749617241', 'source': 'winner.pdf', 'total_pages': 6, 'page': 5, 'page_label': '6'}, page_content='Morin, A .( 2017 ). 6 Ways to Develop the Self-Discipline You Need to Reach Your \\nGoals . Inc. . https://www.inc.com/amy-morin/6-ways-to-develop-the-self-discipline-\\nyou-need-to-reach-your-goals.html  \\nView publication stats')]"
      ]
     },
     "execution_count": 3,
     "metadata": {},
     "output_type": "execute_result"
    }
   ],
   "source": [
    "from langchain_community.document_loaders import PyPDFLoader\n",
    "\n",
    "loader=PyPDFLoader('winner.pdf') #this is given document as output\n",
    "\n",
    "docs=loader.load() #document convert into text\n",
    "\n",
    "docs"
   ]
  },
  {
   "cell_type": "code",
   "execution_count": 8,
   "id": "8d18df2e",
   "metadata": {},
   "outputs": [
    {
     "ename": "ModuleNotFoundError",
     "evalue": "No module named 'bs4'",
     "output_type": "error",
     "traceback": [
      "\u001b[31m---------------------------------------------------------------------------\u001b[39m",
      "\u001b[31mModuleNotFoundError\u001b[39m                       Traceback (most recent call last)",
      "\u001b[36mCell\u001b[39m\u001b[36m \u001b[39m\u001b[32mIn[8]\u001b[39m\u001b[32m, line 5\u001b[39m\n\u001b[32m      1\u001b[39m \u001b[38;5;28;01mfrom\u001b[39;00m\u001b[38;5;250m \u001b[39m\u001b[34;01mlangchain_community\u001b[39;00m\u001b[34;01m.\u001b[39;00m\u001b[34;01mdocument_loaders\u001b[39;00m\u001b[38;5;250m \u001b[39m\u001b[38;5;28;01mimport\u001b[39;00m WebBaseLoader\n\u001b[32m      3\u001b[39m loader=WebBaseLoader(web_path=\u001b[33m\"\u001b[39m\u001b[33mhttps://sanjivanidentalcare.co.in/aligners-invisible-braces-treatment-in-rajkot\u001b[39m\u001b[33m\"\u001b[39m) \u001b[38;5;66;03m#this is given document as output\u001b[39;00m\n\u001b[32m----> \u001b[39m\u001b[32m5\u001b[39m \u001b[43mloader\u001b[49m\u001b[43m.\u001b[49m\u001b[43mload\u001b[49m\u001b[43m(\u001b[49m\u001b[43m)\u001b[49m\n",
      "\u001b[36mFile \u001b[39m\u001b[32m~\\AppData\\Roaming\\Python\\Python313\\site-packages\\langchain_core\\document_loaders\\base.py:32\u001b[39m, in \u001b[36mBaseLoader.load\u001b[39m\u001b[34m(self)\u001b[39m\n\u001b[32m     30\u001b[39m \u001b[38;5;28;01mdef\u001b[39;00m\u001b[38;5;250m \u001b[39m\u001b[34mload\u001b[39m(\u001b[38;5;28mself\u001b[39m) -> \u001b[38;5;28mlist\u001b[39m[Document]:\n\u001b[32m     31\u001b[39m \u001b[38;5;250m    \u001b[39m\u001b[33;03m\"\"\"Load data into Document objects.\"\"\"\u001b[39;00m\n\u001b[32m---> \u001b[39m\u001b[32m32\u001b[39m     \u001b[38;5;28;01mreturn\u001b[39;00m \u001b[38;5;28;43mlist\u001b[39;49m\u001b[43m(\u001b[49m\u001b[38;5;28;43mself\u001b[39;49m\u001b[43m.\u001b[49m\u001b[43mlazy_load\u001b[49m\u001b[43m(\u001b[49m\u001b[43m)\u001b[49m\u001b[43m)\u001b[49m\n",
      "\u001b[36mFile \u001b[39m\u001b[32m~\\AppData\\Roaming\\Python\\Python313\\site-packages\\langchain_community\\document_loaders\\web_base.py:375\u001b[39m, in \u001b[36mWebBaseLoader.lazy_load\u001b[39m\u001b[34m(self)\u001b[39m\n\u001b[32m    373\u001b[39m \u001b[38;5;250m\u001b[39m\u001b[33;03m\"\"\"Lazy load text from the url(s) in web_path.\"\"\"\u001b[39;00m\n\u001b[32m    374\u001b[39m \u001b[38;5;28;01mfor\u001b[39;00m path \u001b[38;5;129;01min\u001b[39;00m \u001b[38;5;28mself\u001b[39m.web_paths:\n\u001b[32m--> \u001b[39m\u001b[32m375\u001b[39m     soup = \u001b[38;5;28;43mself\u001b[39;49m\u001b[43m.\u001b[49m\u001b[43m_scrape\u001b[49m\u001b[43m(\u001b[49m\u001b[43mpath\u001b[49m\u001b[43m,\u001b[49m\u001b[43m \u001b[49m\u001b[43mbs_kwargs\u001b[49m\u001b[43m=\u001b[49m\u001b[38;5;28;43mself\u001b[39;49m\u001b[43m.\u001b[49m\u001b[43mbs_kwargs\u001b[49m\u001b[43m)\u001b[49m\n\u001b[32m    376\u001b[39m     text = soup.get_text(**\u001b[38;5;28mself\u001b[39m.bs_get_text_kwargs)\n\u001b[32m    377\u001b[39m     metadata = _build_metadata(soup, path)\n",
      "\u001b[36mFile \u001b[39m\u001b[32m~\\AppData\\Roaming\\Python\\Python313\\site-packages\\langchain_community\\document_loaders\\web_base.py:347\u001b[39m, in \u001b[36mWebBaseLoader._scrape\u001b[39m\u001b[34m(self, url, parser, bs_kwargs)\u001b[39m\n\u001b[32m    341\u001b[39m \u001b[38;5;28;01mdef\u001b[39;00m\u001b[38;5;250m \u001b[39m\u001b[34m_scrape\u001b[39m(\n\u001b[32m    342\u001b[39m     \u001b[38;5;28mself\u001b[39m,\n\u001b[32m    343\u001b[39m     url: \u001b[38;5;28mstr\u001b[39m,\n\u001b[32m    344\u001b[39m     parser: Union[\u001b[38;5;28mstr\u001b[39m, \u001b[38;5;28;01mNone\u001b[39;00m] = \u001b[38;5;28;01mNone\u001b[39;00m,\n\u001b[32m    345\u001b[39m     bs_kwargs: Optional[\u001b[38;5;28mdict\u001b[39m] = \u001b[38;5;28;01mNone\u001b[39;00m,\n\u001b[32m    346\u001b[39m ) -> Any:\n\u001b[32m--> \u001b[39m\u001b[32m347\u001b[39m     \u001b[38;5;28;01mfrom\u001b[39;00m\u001b[38;5;250m \u001b[39m\u001b[34;01mbs4\u001b[39;00m\u001b[38;5;250m \u001b[39m\u001b[38;5;28;01mimport\u001b[39;00m BeautifulSoup\n\u001b[32m    349\u001b[39m     \u001b[38;5;28;01mif\u001b[39;00m parser \u001b[38;5;129;01mis\u001b[39;00m \u001b[38;5;28;01mNone\u001b[39;00m:\n\u001b[32m    350\u001b[39m         \u001b[38;5;28;01mif\u001b[39;00m url.endswith(\u001b[33m\"\u001b[39m\u001b[33m.xml\u001b[39m\u001b[33m\"\u001b[39m):\n",
      "\u001b[31mModuleNotFoundError\u001b[39m: No module named 'bs4'"
     ]
    }
   ],
   "source": [
    "from langchain_community.document_loaders import WebBaseLoader\n",
    "\n",
    "loader=WebBaseLoader(web_path=\"https://sanjivanidentalcare.co.in/aligners-invisible-braces-treatment-in-rajkot\") #this is given document as output\n",
    "\n",
    "loader.load()\n"
   ]
  }
 ],
 "metadata": {
  "kernelspec": {
   "display_name": "Python 3",
   "language": "python",
   "name": "python3"
  },
  "language_info": {
   "codemirror_mode": {
    "name": "ipython",
    "version": 3
   },
   "file_extension": ".py",
   "mimetype": "text/x-python",
   "name": "python",
   "nbconvert_exporter": "python",
   "pygments_lexer": "ipython3",
   "version": "3.13.2"
  }
 },
 "nbformat": 4,
 "nbformat_minor": 5
}
